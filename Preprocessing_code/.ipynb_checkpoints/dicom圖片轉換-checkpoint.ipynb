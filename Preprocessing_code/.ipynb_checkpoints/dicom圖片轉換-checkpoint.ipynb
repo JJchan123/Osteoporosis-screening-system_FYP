{
 "cells": [
  {
   "cell_type": "markdown",
   "metadata": {},
   "source": [
    "# JPG for each file"
   ]
  },
  {
   "cell_type": "code",
   "execution_count": 13,
   "metadata": {},
   "outputs": [],
   "source": [
    "import os\n",
    "import pydicom\n",
    "from PIL import Image, ImageEnhance, ImageFilter\n",
    "\n",
    "# 設定DICOM檔案所在資料夾路徑和輸出JPEG檔案所在資料夾路徑\n",
    "dicom_dir = \"/Users/USER/OneDrive/桌面/dicom_test/384\"\n",
    "jpeg_dir = \"/Users/USER/OneDrive/桌面/convert_test/PIL_jpg\"\n",
    "\n",
    "# 確認輸出JPEG檔案所在資料夾是否存在，如果不存在則創建\n",
    "if not os.path.exists(jpeg_dir):\n",
    "    os.makedirs(jpeg_dir)\n",
    "\n",
    "# 迴圈處理資料夾中的所有DICOM檔案\n",
    "for filename in os.listdir(dicom_dir):\n",
    "    if filename.endswith(\".dcm\"):\n",
    "        # 設定DICOM檔案路徑和對應的輸出JPEG檔案路徑\n",
    "        dicom_path = os.path.join(dicom_dir, filename)\n",
    "        jpeg_path = os.path.join(jpeg_dir, filename.replace(\".dcm\", \".jpg\"))\n",
    "        \n",
    "        # 使用pydicom讀取DICOM檔案\n",
    "        dcm = pydicom.dcmread(dicom_path)\n",
    "        \n",
    "        # 從DICOM檔案中提取像素陣列資料\n",
    "        pixels = dcm.pixel_array\n",
    "        \n",
    "        # 將像素陣列從numpy.uint16轉換為numpy.uint8\n",
    "        pixels = (pixels/20).astype('uint8')\n",
    "        \n",
    "        # 將像素陣列轉換成PIL圖像物件\n",
    "        image = Image.fromarray(pixels)\n",
    "        \n",
    "        # 增強對比度\n",
    "        enhancer = ImageEnhance.Contrast(image)\n",
    "        image = enhancer.enhance(1.5)\n",
    "        \n",
    "        # 銳化圖像\n",
    "        image = image.filter(ImageFilter.SHARPEN)\n",
    "        \n",
    "        # 將PIL圖像物件儲存成JPEG檔案\n",
    "        image.save(jpeg_path)"
   ]
  },
  {
   "cell_type": "code",
   "execution_count": 14,
   "metadata": {},
   "outputs": [
    {
     "name": "stdout",
     "output_type": "stream",
     "text": [
      "/Users/USER/OneDrive/桌面/dicom_test/384\\1.2.392.200046.100.14.85238932554885762441771873434544638624_niming.dcm\n"
     ]
    }
   ],
   "source": [
    "print(dicom_path)"
   ]
  },
  {
   "cell_type": "code",
   "execution_count": 15,
   "metadata": {},
   "outputs": [
    {
     "name": "stdout",
     "output_type": "stream",
     "text": [
      "/Users/USER/OneDrive/桌面/convert_test/PIL_jpg\\1.2.392.200046.100.14.85238932554885762441771873434544638624_niming.jpg\n"
     ]
    }
   ],
   "source": [
    "print(jpeg_path)"
   ]
  },
  {
   "cell_type": "markdown",
   "metadata": {},
   "source": [
    "# PNG for each file"
   ]
  },
  {
   "cell_type": "code",
   "execution_count": 10,
   "metadata": {},
   "outputs": [],
   "source": [
    "import os\n",
    "import pydicom\n",
    "from PIL import Image\n",
    "\n",
    "# 設定DICOM檔案所在資料夾路徑和輸出PNG檔案所在資料夾路徑\n",
    "dicom_dir = \"/Users/USER/OneDrive/桌面/dicom_test/384\"\n",
    "png_dir = \"/Users/USER/OneDrive/桌面/convert_test/PIL_png\"\n",
    "\n",
    "# 確認輸出PNG檔案所在資料夾是否存在，如果不存在則創建\n",
    "if not os.path.exists(png_dir):\n",
    "    os.makedirs(png_dir)\n",
    "\n",
    "# 迴圈處理資料夾中的所有DICOM檔案\n",
    "for filename in os.listdir(dicom_dir):\n",
    "    if filename.endswith(\".dcm\"):\n",
    "        # 設定DICOM檔案路徑和對應的輸出PNG檔案路徑\n",
    "        dicom_path = os.path.join(dicom_dir, filename)\n",
    "        png_path = os.path.join(png_dir, filename.replace(\".dcm\", \".png\"))\n",
    "        \n",
    "        # 使用pydicom讀取DICOM檔案\n",
    "        dcm = pydicom.dcmread(dicom_path)\n",
    "        \n",
    "        # 從DICOM檔案中提取像素陣列資料\n",
    "        pixels = dcm.pixel_array\n",
    "        \n",
    "            #  \n",
    "        pixels = (pixels - pixels.min()) * (65535/(pixels.max() - pixels.min()))\n",
    "        \n",
    "        \n",
    "        # 將像素陣列從numpy.uint16轉換為PIL.Image模組的像素數據類型\n",
    "        pixels = pixels.astype('uint16')\n",
    "        \n",
    "        # 將像素數據轉換成PIL圖像物件\n",
    "        image = Image.fromarray(pixels)\n",
    "        \n",
    "        # 將PIL圖像物件儲存成PNG檔案\n",
    "        image.save(png_path)\n"
   ]
  },
  {
   "cell_type": "markdown",
   "metadata": {},
   "source": [
    "# RUN ALL JPG"
   ]
  },
  {
   "cell_type": "code",
   "execution_count": 2,
   "metadata": {},
   "outputs": [],
   "source": [
    "import os\n",
    "import pydicom\n",
    "from PIL import Image, ImageEnhance, ImageFilter\n",
    "\n",
    "# 設定DICOM檔案所在根目錄路徑和輸出JPEG檔案所在根目錄路徑\n",
    "dicom_root = \"/Users/USER/OneDrive/桌面/dicom_test\"\n",
    "jpeg_root =  \"/Users/USER/OneDrive/桌面/dicom2jpg\"\n",
    "\n",
    "# 遍歷DICOM檔案所在的所有子目錄\n",
    "for dirpath, dirnames, filenames in os.walk(dicom_root):\n",
    "    # 遍歷目錄下的所有檔案\n",
    "    for filename in filenames:\n",
    "        # 如果檔案是DICOM檔案\n",
    "        if filename.endswith(\".dcm\"):\n",
    "            # 設定DICOM檔案路徑和對應的輸出JPEG檔案路徑\n",
    "            dicom_path = os.path.join(dirpath, filename)\n",
    "            jpeg_dir = os.path.join(jpeg_root, os.path.relpath(dirpath, dicom_root))\n",
    "            jpeg_path = os.path.join(jpeg_dir, filename.replace(\".dcm\", \".jpg\"))\n",
    "            \n",
    "            # 如果輸出JPEG檔案所在的目錄不存在，則創建該目錄\n",
    "            if not os.path.exists(jpeg_dir):\n",
    "                os.makedirs(jpeg_dir)\n",
    "\n",
    "                \n",
    "        # 使用pydicom讀取DICOM檔案\n",
    "        dcm = pydicom.dcmread(dicom_path)\n",
    "        \n",
    "        # 正規化為 0 到 1 之間\n",
    "        normalized_pixels = (pixels - np.min(pixels)) / (np.max(pixels) - np.min(pixels))\n",
    "\n",
    "        # 將像素值縮放至 0 到 255 之間\n",
    "        scaled_pixels = (normalized_pixels * 255).astype(np.uint8)\n",
    "\n",
    "        image = Image.fromarray(scaled_pixels)\n",
    "        \n",
    "        # 將PIL圖像物件儲存成JPEG檔案\n",
    "        image.save(jpeg_path)             \n",
    "            "
   ]
  },
  {
   "cell_type": "code",
   "execution_count": 17,
   "metadata": {},
   "outputs": [
    {
     "name": "stdout",
     "output_type": "stream",
     "text": [
      "/Users/USER/OneDrive/桌面/dicom_test\\384\\1.2.392.200046.100.14.85238932554885762441771873434544638624_niming.dcm\n"
     ]
    }
   ],
   "source": [
    "print(dicom_path)"
   ]
  },
  {
   "cell_type": "code",
   "execution_count": 21,
   "metadata": {},
   "outputs": [
    {
     "name": "stdout",
     "output_type": "stream",
     "text": [
      "/Users/USER/OneDrive/桌面/dicom_test\\384\n"
     ]
    }
   ],
   "source": [
    "print(dirpath)"
   ]
  },
  {
   "cell_type": "code",
   "execution_count": 22,
   "metadata": {},
   "outputs": [
    {
     "name": "stdout",
     "output_type": "stream",
     "text": [
      "/Users/USER/OneDrive/桌面/dicom2jpg\\384\n"
     ]
    }
   ],
   "source": [
    "print(jpeg_dir)"
   ]
  },
  {
   "cell_type": "code",
   "execution_count": 23,
   "metadata": {},
   "outputs": [
    {
     "name": "stdout",
     "output_type": "stream",
     "text": [
      "/Users/USER/OneDrive/桌面/dicom2jpg\\384\\1.2.392.200046.100.14.85238932554885762441771873434544638624_niming.jpg\n"
     ]
    }
   ],
   "source": [
    "print(jpeg_path)"
   ]
  },
  {
   "cell_type": "markdown",
   "metadata": {
    "scrolled": false
   },
   "source": [
    "# RUN ALL PNG"
   ]
  },
  {
   "cell_type": "code",
   "execution_count": 1,
   "metadata": {},
   "outputs": [],
   "source": [
    "import os\n",
    "import pydicom\n",
    "from PIL import Image, ImageEnhance, ImageFilter\n",
    "\n",
    "# 設定DICOM檔案所在根目錄路徑和輸出JPEG檔案所在根目錄路徑\n",
    "dicom_root = \"/Users/USER/OneDrive/桌面/dicom_test\"\n",
    "png_root =  \"/Users/USER/OneDrive/桌面/dicom2png\"\n",
    "\n",
    "# 遍歷DICOM檔案所在的所有子目錄\n",
    "for dirpath, dirnames, filenames in os.walk(dicom_root):\n",
    "    # 遍歷目錄下的所有檔案\n",
    "    for filename in filenames:\n",
    "        # 如果檔案是DICOM檔案\n",
    "        if filename.endswith(\".dcm\"):\n",
    "            # 設定DICOM檔案路徑和對應的輸出JPEG檔案路徑\n",
    "            dicom_path = os.path.join(dirpath, filename)\n",
    "            png_dir = os.path.join(png_root, os.path.relpath(dirpath, dicom_root))\n",
    "            png_path = os.path.join(png_dir, filename.replace(\".dcm\", \".png\"))\n",
    "            \n",
    "            # 如果輸出JPEG檔案所在的目錄不存在，則創建該目錄\n",
    "            if not os.path.exists(png_dir):\n",
    "                os.makedirs(png_dir)\n",
    "        \n",
    "        # 使用pydicom讀取DICOM檔案\n",
    "        dcm = pydicom.dcmread(dicom_path)\n",
    "        \n",
    "        # 從DICOM檔案中提取像素陣列資料\n",
    "        pixels = dcm.pixel_array\n",
    "        \n",
    "        # 正規化像素值到0到65535之間\n",
    "        pixels = (pixels - pixels.min()) * (65535/(pixels.max() - pixels.min()))\n",
    "        \n",
    "        \n",
    "        # 將像素陣列從numpy.uint16轉換為PIL.Image模組的像素數據類型\n",
    "        pixels = pixels.astype('uint16')\n",
    "        \n",
    "        # 將像素數據轉換成PIL圖像物件\n",
    "        image = Image.fromarray(pixels)\n",
    "        \n",
    "        # 將PIL圖像物件儲存成PNG檔案\n",
    "        image.save(png_path)\n",
    "\n",
    "         \n",
    "            "
   ]
  },
  {
   "cell_type": "markdown",
   "metadata": {},
   "source": [
    "# Testing the pixels"
   ]
  },
  {
   "cell_type": "code",
   "execution_count": 4,
   "metadata": {},
   "outputs": [
    {
     "name": "stdout",
     "output_type": "stream",
     "text": [
      "[[0 0 0 ... 0 0 0]\n",
      " [0 0 0 ... 0 0 0]\n",
      " [0 0 0 ... 0 0 0]\n",
      " ...\n",
      " [0 0 0 ... 0 0 0]\n",
      " [0 0 0 ... 0 0 0]\n",
      " [0 0 0 ... 0 0 0]]\n"
     ]
    }
   ],
   "source": [
    "import pydicom\n",
    "import numpy as np\n",
    "from PIL import Image\n",
    "\n",
    "# 讀取DICOM檔案\n",
    "dcm = pydicom.dcmread(\"/Users/USER/OneDrive/桌面/骨鬆/PRJ_F23076_放射線部_林炫吟_dicom/1937321/1.2.528.1.1001.100.4.28469.20441.1.20180923065753137_niming.dcm\")\n",
    "\n",
    "# 從DICOM檔案中提取像素陣列資料\n",
    "pixels = dcm.pixel_array\n",
    "\n",
    "print(pixels)\n",
    "\n",
    "# 正規化為 0 到 1 之間\n",
    "normalized_pixels = (pixels - np.min(pixels)) / (np.max(pixels) - np.min(pixels))\n",
    "\n",
    "# 將像素值縮放至 0 到 255 之間\n",
    "scaled_pixels = (normalized_pixels * 255).astype(np.uint8)\n",
    "\n",
    "\n",
    "image = Image.fromarray(scaled_pixels)\n",
    "\n",
    "image.show()\n",
    "\n"
   ]
  },
  {
   "cell_type": "code",
   "execution_count": 7,
   "metadata": {},
   "outputs": [
    {
     "name": "stdout",
     "output_type": "stream",
     "text": [
      "[[0. 0. 0. ... 0. 0. 0.]\n",
      " [0. 0. 0. ... 0. 0. 0.]\n",
      " [0. 0. 0. ... 0. 0. 0.]\n",
      " ...\n",
      " [0. 0. 0. ... 0. 0. 0.]\n",
      " [0. 0. 0. ... 0. 0. 0.]\n",
      " [0. 0. 0. ... 0. 0. 0.]]\n"
     ]
    }
   ],
   "source": [
    "print(normalized_pixels)"
   ]
  },
  {
   "cell_type": "code",
   "execution_count": 3,
   "metadata": {},
   "outputs": [
    {
     "data": {
      "text/plain": [
       "Dataset.file_meta -------------------------------\n",
       "(0002, 0000) File Meta Information Group Length  UL: 180\n",
       "(0002, 0001) File Meta Information Version       OB: b'01'\n",
       "(0002, 0002) Media Storage SOP Class UID         UI: Computed Radiography Image Storage\n",
       "(0002, 0003) Media Storage SOP Instance UID      UI: 1.3.12.2.1107.5.3.49.23461.11.202103311135420906\n",
       "(0002, 0010) Transfer Syntax UID                 UI: JPEG 2000 Image Compression (Lossless Only)\n",
       "(0002, 0012) Implementation Class UID            UI: 1.2.840.113817.2000.200\n",
       "(0002, 0013) Implementation Version Name         SH: 'UQ_V13'\n",
       "-------------------------------------------------\n",
       "(0008, 0005) Specific Character Set              CS: 'ISO_IR 192'\n",
       "(0008, 0008) Image Type                          CS: ['DERIVED', 'PRIMARY', '', 'RAD']\n",
       "(0008, 0016) SOP Class UID                       UI: Computed Radiography Image Storage\n",
       "(0008, 0018) SOP Instance UID                    UI: 1.3.12.2.1107.5.3.49.23461.11.202103311135420906\n",
       "(0008, 0020) Study Date                          DA: '20210331'\n",
       "(0008, 0021) Series Date                         DA: '20210331'\n",
       "(0008, 0022) Acquisition Date                    DA: '20210331'\n",
       "(0008, 0023) Content Date                        DA: '20210331'\n",
       "(0008, 0030) Study Time                          TM: '113542'\n",
       "(0008, 0031) Series Time                         TM: '113542'\n",
       "(0008, 0032) Acquisition Time                    TM: '113542.0906'\n",
       "(0008, 0033) Content Time                        TM: '113542.0906'\n",
       "(0008, 0050) Accession Number                    SH: 'F23076'\n",
       "(0008, 0060) Modality                            CS: 'CR'\n",
       "(0008, 0070) Manufacturer                        LO: 'SIEMENS'\n",
       "(0008, 0080) Institution Name                    LO: '-'\n",
       "(0008, 0090) Referring Physician's Name          PN: '-'\n",
       "(0008, 1010) Station Name                        SH: 'XP1028101323461'\n",
       "(0008, 1030) Study Description                   LO: 'L-SPINE FLEX.&EXT.'\n",
       "(0008, 1032)  Procedure Code Sequence  1 item(s) ---- \n",
       "   (0008, 0100) Code Value                          SH: '15004170'\n",
       "   (0008, 0102) Coding Scheme Designator            SH: 'TEDPC'\n",
       "   (0008, 0104) Code Meaning                        LO: 'TEDPC'\n",
       "   ---------\n",
       "(0008, 103e) Series Description                  LO: 'T L-SPINE FLX'\n",
       "(0008, 1040) Institutional Department Name       LO: 'Radiology Dep'\n",
       "(0008, 1070) Operators' Name                     PN: '-'\n",
       "(0008, 1080) Admitting Diagnoses Description     LO: 'L-SPINE FLEX.&EXT.'\n",
       "(0008, 1090) Manufacturer's Model Name           LO: 'Fluorospot Compact FD'\n",
       "(0008, 2111) Derivation Description              ST: '<FlipH=YES><Rotate=180�>'\n",
       "(0008, 3010) Irradiation Event UID               UI: 1.3.12.2.1107.5.3.49.23461.16.20210331113542\n",
       "(0010, 0010) Patient's Name                      PN: 'anonymouse'\n",
       "(0010, 0020) Patient ID                          LO: '127'\n",
       "(0010, 0030) Patient's Birth Date                DA: '19111010'\n",
       "(0010, 0032) Patient's Birth Time                TM: '0000'\n",
       "(0010, 0040) Patient's Sex                       CS: 'F'\n",
       "(0010, 1000) Other Patient IDs                   LO: '-'\n",
       "(0010, 1001) Other Patient Names                 PN: '-'\n",
       "(0010, 1010) Patient's Age                       AS: '067Y'\n",
       "(0010, 1020) Patient's Size                      DS: '0.0'\n",
       "(0010, 1030) Patient's Weight                    DS: '0.0'\n",
       "(0017, 0010) Private Creator                     LO: 'SIEMENS_FLCOMPACT_VA01A_PROC'\n",
       "(0017, 100a) [Internal Data]                     SS: 4\n",
       "(0017, 100b) [Internal Data]                     SS: 3570\n",
       "(0017, 100c) [Internal Data]                     SS: 2\n",
       "(0017, 100d) [Internal Data]                     FL: 0.0\n",
       "(0017, 100e) [Internal Data]                     LO: ''\n",
       "(0017, 100f) [Internal Data]                     LO: 'Cu 0.0 mm'\n",
       "(0017, 1010) Private tag data                    SS: 5207\n",
       "(0017, 1011) Private tag data                    SS: 2\n",
       "(0017, 1014) [Internal Data]                     US: 50\n",
       "(0017, 1016) [Internal Data]                     US: 0\n",
       "(0017, 1017) [Internal Data]                     US: 1\n",
       "(0017, 1018) [Internal Data]                     US: 0\n",
       "(0017, 1019) [Internal Data]                     US: 1366\n",
       "(0017, 101a) [Internal Data]                     US: 2609\n",
       "(0017, 101b) [Internal Data]                     US: 1\n",
       "(0017, 101c) [Internal Data]                     US: 0\n",
       "(0017, 101e) [Internal Data]                     US: 0\n",
       "(0017, 101f) [Internal Data]                     SS: 0\n",
       "(0017, 1020) [Internal Data]                     SS: 0\n",
       "(0017, 1021) [Internal Data]                     US: 30\n",
       "(0017, 1022) [Internal Data]                     US: 1\n",
       "(0017, 1023) [Internal Data]                     US: 0\n",
       "(0017, 1024) [Internal Data]                     US: 1\n",
       "(0017, 1025) [Internal Data]                     US: 0\n",
       "(0017, 1026) [Internal Data]                     US: 0\n",
       "(0017, 1027) [Internal Data]                     US: 0\n",
       "(0017, 1028) [Internal Data]                     FL: 0.0\n",
       "(0017, 1029) [Internal Data]                     FL: 0.0\n",
       "(0017, 1048) [Internal Data]                     SS: 8\n",
       "(0017, 1049) [Internal Data]                     SS: 0\n",
       "(0017, 104d) [Internal Data]                     SS: 0\n",
       "(0017, 104e) [Internal Data]                     LO: '20210331'\n",
       "(0017, 104f) [Internal Data]                     LO: '1135420906'\n",
       "(0017, 1050) [Internal Data]                     SS: 0\n",
       "(0017, 1052) [Internal Data]                     SS: 7\n",
       "(0017, 1053) [Internal Data]                     SS: 5\n",
       "(0017, 1054) [Internal Data]                     SS: 255\n",
       "(0017, 1055) [Internal Data]                     SS: 0\n",
       "(0017, 105c) [Internal Data]                     OW: Array of 10240 elements\n",
       "(0017, 1064) [Internal Data]                     US: 50\n",
       "(0017, 1066) [Internal Data]                     US: 0\n",
       "(0017, 1067) [Internal Data]                     US: 1\n",
       "(0017, 1068) [Internal Data]                     US: 0\n",
       "(0017, 1085) [Internal Data]                     US: 30\n",
       "(0017, 1086) [Internal Data]                     US: 1\n",
       "(0017, 1087) [Internal Data]                     US: 0\n",
       "(0017, 1088) [Internal Data]                     US: 1\n",
       "(0017, 1089) [Internal Data]                     US: 0\n",
       "(0017, 108a) [Internal Data]                     US: 0\n",
       "(0017, 108b) [Internal Data]                     US: 0\n",
       "(0017, 108c) [Internal Data]                     FL: 0.0\n",
       "(0017, 108d) [Internal Data]                     FL: 0.0\n",
       "(0017, 108e) [Internal Data]                     US: 1366\n",
       "(0017, 108f) [Internal Data]                     US: 2609\n",
       "(0017, 1090) Private tag data                    US: 0\n",
       "(0017, 1091) Private tag data                    US: 0\n",
       "(0017, 1092) Private tag data                    US: 0\n",
       "(0017, 1093) Private tag data                    US: 1\n",
       "(0017, 10a0) [Internal Data]                     US: 0\n",
       "(0017, 10a1) [Internal Data]                     US: 0\n",
       "(0017, 10a2) [Internal Data]                     LO: '2.0'\n",
       "(0017, 10aa) Private tag data                    US: 48\n",
       "(0017, 10ab) Private tag data                    US: 0\n",
       "(0017, 10b0) [Internal Data]                     DS: '25.3'\n",
       "(0017, 10bf) Private tag data                    LO: 'T L-SPINE FLX'\n",
       "(0017, 10c0) [Internal Data]                     LO: 'L-SPINE FLEX.&EXT. ,'\n",
       "(0017, 10c1) Private tag data                    US: 0\n",
       "(0017, 10c2) Private tag data                    US: 1\n",
       "(0017, 10c3) Private tag data                    US: 40\n",
       "(0017, 10c4) Private tag data                    LO: '15004170'\n",
       "(0018, 0010) Contrast/Bolus Agent                LO: ''\n",
       "(0018, 0015) Body Part Examined                  CS: 'LSPINE'\n",
       "(0018, 0060) KVP                                 DS: '80.9'\n",
       "(0018, 1000) Device Serial Number                LO: '23461'\n",
       "(0018, 1004) Plate ID                            LO: 'SN1421F7'\n",
       "(0018, 1020) Software Versions                   LO: 'VF85M'\n",
       "(0018, 1030) Protocol Name                       LO: 'T L-SPINE FLX'\n",
       "(0018, 1110) Distance Source to Detector         DS: '1190.0'\n",
       "(0018, 1134) Table Motion                        CS: 'STATIC'\n",
       "(0018, 1138) Table Angle                         DS: '-180.0'\n",
       "(0018, 113a) Table Type                          CS: 'TILTING'\n",
       "(0018, 1150) Exposure Time                       IS: '67'\n",
       "(0018, 1151) X-Ray Tube Current                  IS: '806'\n",
       "(0018, 1152) Exposure                            IS: '53'\n",
       "(0018, 1153) Exposure in uAs                     IS: '53600'\n",
       "(0018, 1154) Average Pulse Width                 DS: '66.5'\n",
       "(0018, 1155) Radiation Setting                   CS: 'GR'\n",
       "(0018, 115a) Radiation Mode                      CS: 'PULSED'\n",
       "(0018, 115e) Image and Fluoroscopy Area Dose Pro DS: '18.314'\n",
       "(0018, 1160) Filter Type                         SH: 'NONE'\n",
       "(0018, 1164) Imager Pixel Spacing                DS: [0.144, 0.144]\n",
       "(0018, 1166) Grid                                CS: 'FOCUSED'\n",
       "(0018, 1200) Date of Last Calibration            DA: '20210115'\n",
       "(0018, 1400) Acquisition Device Processing Descr LO: 'Spine'\n",
       "(0018, 1401) Acquisition Device Processing Code  LO: '14'\n",
       "(0018, 1405) Relative X-Ray Exposure             IS: '314'\n",
       "(0018, 1411) Exposure Index                      DS: '264.0'\n",
       "(0018, 1412) Target Exposure Index               DS: '446.0'\n",
       "(0018, 1413) Deviation Index                     DS: '-250.0'\n",
       "(0018, 1450) Column Angulation                   CS: '0'\n",
       "(0018, 1508) Positioner Type                     CS: 'NONE'\n",
       "(0018, 5101) View Position                       CS: ''\n",
       "(0018, 6000) Sensitivity                         DS: '280.0'\n",
       "(0018, 7000) Detector Conditions Nominal Flag    CS: 'YES'\n",
       "(0018, 7001) Detector Temperature                DS: '27.0'\n",
       "(0018, 7004) Detector Type                       CS: 'SCINTILLATOR'\n",
       "(0018, 7006) Detector Description                LT: 'SN1421F7'\n",
       "(0018, 700a) Detector ID                         SH: 'SN1421F7'\n",
       "(0018, 700c) Date of Last Detector Calibration   DA: '20210115'\n",
       "(0018, 700e) Time of Last Detector Calibration   TM: '134100'\n",
       "(0018, 7030) Field of View Origin                DS: [311, 629]\n",
       "(0018, 7032) Field of View Rotation              DS: '180.0'\n",
       "(0018, 7034) Field of View Horizontal Flip       CS: 'YES'\n",
       "(0018, 704c) Grid Focal Distance                 DS: '1150.0'\n",
       "(0018, 8150) Exposure Time in uS                 DS: '66500.0'\n",
       "(0018, 8151) X-Ray Tube Current in uA            DS: '806000.0'\n",
       "(0019, 0010) Private Creator                     LO: 'Siemens: Thorax/Multix FD Lab Settings'\n",
       "(0019, 1006) [Table Object Distance]             FD: None\n",
       "(0019, 1007) [Table Detector Distance]           FD: 51.0\n",
       "(0019, 1008) [Ortho Step Distance]               US: 0\n",
       "(0019, 1009) Private tag data                    LO: 'NO'\n",
       "(0020, 000d) Study Instance UID                  UI: 1.2.840.113817.20210331100200.1200285088098.85925492447\n",
       "(0020, 000e) Series Instance UID                 UI: 1.3.12.2.1107.5.3.49.23461.2.11.20210331113542\n",
       "(0020, 0010) Study ID                            SH: '15004170'\n",
       "(0020, 0011) Series Number                       IS: '1'\n",
       "(0020, 0012) Acquisition Number                  IS: '1'\n",
       "(0020, 0013) Instance Number                     IS: '2'\n",
       "(0020, 0020) Patient Orientation                 CS: ''\n",
       "(0021, 0010) Private Creator                     LO: 'Siemens: Thorax/Multix FD Post Processing'\n",
       "(0021, 1008) [Auto Window Flag]                  US: 1\n",
       "(0021, 1009) [Auto Window Center]                SL: 1294\n",
       "(0021, 100a) [Auto Window Width]                 SL: 2846\n",
       "(0021, 100b) [Filter ID]                         SS: 0\n",
       "(0021, 1013) [Patient Rotation]                  SS: 0\n",
       "(0021, 1014) [Anatomic Correct View Flag]        US: 0\n",
       "(0021, 1015) [Auto Window Shift]                 SS: 0\n",
       "(0021, 1016) [Auto Window Expansion]             DS: '1.1'\n",
       "(0021, 1017) Private tag data                    LO: 'YSIO G2 FLC'\n",
       "(0021, 1018) Private tag data                    LO: 'RAD_TABLE'\n",
       "(0021, 1030) Private tag data                    SH: '0'\n",
       "(0021, 1031) Private tag data                    SH: '8'\n",
       "(0025, 0010) Private Creator                     LO: 'Siemens: Thorax/Multix FD Raw Image Settings'\n",
       "(0025, 1000) [Raw Image Amplification]           SS: 14\n",
       "(0025, 100c) [Harmonization Kernel]              SS: 255\n",
       "(0025, 100d) [Harmonization Gain]                FL: 0.29999998211860657\n",
       "(0025, 100e) [Edge Enhancement Kernel]           SS: 7\n",
       "(0025, 100f) [Edge Enhancement Gain]             FL: 0.5\n",
       "(0025, 1010) [Raw Image File Name]               LT: Array of 76 elements\n",
       "(0025, 1018) [Auto Gain]                         US: 0\n",
       "(0025, 1019) [Ortho Sub Sampling]                US: 0\n",
       "(0025, 101a) [Image Crop Upper Left]             US: [1994, 311]\n",
       "(0025, 101b) [Image Crop Upper Right]            US: [1994, 2919]\n",
       "(0025, 101c) [Image Crop Lower Left]             US: [629, 311]\n",
       "(0025, 101d) [Image Crop Lower Right]            US: [629, 2919]\n",
       "(0025, 1030) [Manual Cropping]                   US: 0\n",
       "(0025, 1031) [Gamma LUT Parameter 1]             SS: 5\n",
       "(0025, 1032) [Gamma LUT Parameter 2]             DS: '1.4'\n",
       "(0025, 1033) [Gamma LUT Parameter 3]             SS: 3500\n",
       "(0025, 1034) [Gamma LUT Parameter 4]             SS: 50\n",
       "(0025, 1035) Private tag data                    LO: 'd013'\n",
       "(0025, 1036) Private tag data                    DS: '314.0'\n",
       "(0025, 1037) Private tag data                    DS: '264.0'\n",
       "(0028, 0002) Samples per Pixel                   US: 1\n",
       "(0028, 0004) Photometric Interpretation          CS: 'MONOCHROME2'\n",
       "(0028, 0006) Planar Configuration                US: 0\n",
       "(0028, 0010) Rows                                US: 2609\n",
       "(0028, 0011) Columns                             US: 1366\n",
       "(0028, 0100) Bits Allocated                      US: 16\n",
       "(0028, 0101) Bits Stored                         US: 12\n",
       "(0028, 0102) High Bit                            US: 11\n",
       "(0028, 0103) Pixel Representation                US: 0\n",
       "(0028, 0301) Burned In Annotation                CS: 'NO'\n",
       "(0028, 1040) Pixel Intensity Relationship        CS: 'DISP'\n",
       "(0028, 1050) Window Center                       DS: '1297.0'\n",
       "(0028, 1051) Window Width                        DS: '2854.0'\n",
       "(0028, 2110) Lossy Image Compression             CS: '00'\n",
       "(0032, 000a) Study Status ID                     CS: 'Matched'\n",
       "(0032, 1033) Requesting Service                  LO: '-'\n",
       "(0032, 1060) Requested Procedure Description     LO: 'L-SPINE FLEX.&EXT.'\n",
       "(0040, 0244) Performed Procedure Step Start Date DA: '20210331'\n",
       "(0040, 0245) Performed Procedure Step Start Time TM: '113542'\n",
       "(0040, 0253) Performed Procedure Step ID         CS: 'RF11033111242246'\n",
       "(0040, 0254) Performed Procedure Step Descriptio LO: 'L-SPINE FLEX.&EXT.'\n",
       "(0040, 0260)  Performed Protocol Code Sequence  1 item(s) ---- \n",
       "   (0008, 0100) Code Value                          SH: '15004170'\n",
       "   (0008, 0102) Coding Scheme Designator            SH: 'TEDPC'\n",
       "   (0008, 0104) Code Meaning                        LO: 'TEDPC'\n",
       "   ---------\n",
       "(0040, 0275)  Request Attributes Sequence  1 item(s) ---- \n",
       "   (0040, 0007) Scheduled Procedure Step Descriptio LO: 'L-SPINE FLEX.&EXT.'\n",
       "   (0040, 0008)  Scheduled Protocol Code Sequence  1 item(s) ---- \n",
       "      (0008, 0100) Code Value                          SH: '15004170'\n",
       "      (0008, 0102) Coding Scheme Designator            SH: 'TEDPC'\n",
       "      (0008, 0104) Code Meaning                        LO: 'TEDPC'\n",
       "      ---------\n",
       "   (0040, 0009) Scheduled Procedure Step ID         SH: '15004170'\n",
       "   (0040, 1001) Requested Procedure ID              SH: '15004170'\n",
       "   ---------\n",
       "(2050, 0020) Presentation LUT Shape              CS: 'IDENTITY'\n",
       "(7fe0, 0010) Pixel Data                          OW: Array of 2950396 elements"
      ]
     },
     "execution_count": 3,
     "metadata": {},
     "output_type": "execute_result"
    }
   ],
   "source": [
    "dcm"
   ]
  },
  {
   "cell_type": "code",
   "execution_count": null,
   "metadata": {},
   "outputs": [],
   "source": [
    "#window , mono ,body part "
   ]
  }
 ],
 "metadata": {
  "colab": {
   "provenance": []
  },
  "kernelspec": {
   "display_name": "Python 3 (ipykernel)",
   "language": "python",
   "name": "python3"
  },
  "language_info": {
   "codemirror_mode": {
    "name": "ipython",
    "version": 3
   },
   "file_extension": ".py",
   "mimetype": "text/x-python",
   "name": "python",
   "nbconvert_exporter": "python",
   "pygments_lexer": "ipython3",
   "version": "3.9.16"
  }
 },
 "nbformat": 4,
 "nbformat_minor": 1
}
