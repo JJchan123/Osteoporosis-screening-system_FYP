{
 "cells": [
  {
   "cell_type": "code",
   "execution_count": null,
   "id": "c13a85a3",
   "metadata": {},
   "outputs": [],
   "source": [
    "import pandas as pd\n",
    "import os\n",
    "import pydicom\n",
    "from PIL import Image\n",
    "import numpy as np\n",
    "# 讀取 CSV 檔案\n",
    "df = pd.read_csv('/Users/USER/OneDrive/桌面/other.csv')\n",
    "\n",
    "# 指定存放轉換後 JPG 檔案的主目錄\n",
    "output_dir = '/Users/USER/OneDrive/桌面/other'\n",
    "\n",
    "if not os.path.exists(output_dir):\n",
    "    os.makedirs(output_dir)\n",
    "\n",
    "# 遍歷每一行資料\n",
    "for index, row in df.iterrows():\n",
    "    # 取得 patient id\n",
    "    patient_id = row['PATIENT_ID']\n",
    "        \n",
    "    # 根據 patient id 創建對應的子目錄\n",
    "    patient_dir = os.path.join(output_dir, str(patient_id))\n",
    "    if not os.path.exists(patient_dir):\n",
    "        os.makedirs(patient_dir)\n",
    "\n",
    "        # 取得 DICOM 檔案路徑\n",
    "    dicom_path = row['Path']\n",
    "    \n",
    "    basename = os.path.basename(dicom_path)\n",
    "    \n",
    "    image_dir = os.path.join(patient_dir, basename.replace(\".dcm\",\".jpg\"))\n",
    "    \n",
    "    # 使用 pydicom 讀取 DICOM 檔案\n",
    "    dcm = pydicom.dcmread(dicom_path)\n",
    "\n",
    "    # 提取像素陣列資料\n",
    "    pixels = dcm.pixel_array\n",
    "    \n",
    "    # 正規化為 0 到 1 之間\n",
    "    normalized_pixels = (pixels - np.min(pixels)) / (np.max(pixels) - np.min(pixels))\n",
    "\n",
    "    \n",
    "    # 將像素值縮放至 0 到 255 之間\n",
    "    scaled_pixels = (normalized_pixels * 255).astype(np.uint8)\n",
    "\n",
    "    image = Image.fromarray(scaled_pixels)\n",
    "        \n",
    "\n",
    "    # 將 PIL 圖像物件儲存成 JPG 檔案\n",
    "    image.save(image_dir)\n"
   ]
  }
 ],
 "metadata": {
  "kernelspec": {
   "display_name": "Python 3 (ipykernel)",
   "language": "python",
   "name": "python3"
  },
  "language_info": {
   "codemirror_mode": {
    "name": "ipython",
    "version": 3
   },
   "file_extension": ".py",
   "mimetype": "text/x-python",
   "name": "python",
   "nbconvert_exporter": "python",
   "pygments_lexer": "ipython3",
   "version": "3.9.15"
  }
 },
 "nbformat": 4,
 "nbformat_minor": 5
}
