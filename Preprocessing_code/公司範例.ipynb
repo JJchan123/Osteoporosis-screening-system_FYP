{
 "cells": [
  {
   "cell_type": "code",
   "execution_count": 1,
   "id": "667fac50",
   "metadata": {},
   "outputs": [],
   "source": [
    "import os\n",
    "import json\n",
    "import numpy as np\n",
    "import pandas as pd"
   ]
  },
  {
   "cell_type": "code",
   "execution_count": 2,
   "id": "6f67b473",
   "metadata": {},
   "outputs": [],
   "source": [
    "df = pd.read_csv('sample_kub_pair_data.csv')"
   ]
  },
  {
   "cell_type": "code",
   "execution_count": 3,
   "id": "cba0c5c4",
   "metadata": {},
   "outputs": [
    {
     "name": "stdout",
     "output_type": "stream",
     "text": [
      "<class 'pandas.core.frame.DataFrame'>\n",
      "RangeIndex: 2 entries, 0 to 1\n",
      "Data columns (total 14 columns):\n",
      " #   Column          Non-Null Count  Dtype  \n",
      "---  ------          --------------  -----  \n",
      " 0   sop_inst_uid    2 non-null      object \n",
      " 1   path            2 non-null      object \n",
      " 2   clinic          2 non-null      object \n",
      " 3   his_patient_id  2 non-null      int64  \n",
      " 4   age             2 non-null      float64\n",
      " 5   gender          2 non-null      object \n",
      " 6   race            2 non-null      object \n",
      " 7   height          2 non-null      float64\n",
      " 8   weight          2 non-null      float64\n",
      " 9   dxa_uid         2 non-null      object \n",
      " 10  dxa_measures    2 non-null      object \n",
      " 11  date_xray       2 non-null      object \n",
      " 12  date_dxa        2 non-null      object \n",
      " 13  study_diff      2 non-null      int64  \n",
      "dtypes: float64(3), int64(2), object(9)\n",
      "memory usage: 352.0+ bytes\n"
     ]
    }
   ],
   "source": [
    "df.info()"
   ]
  },
  {
   "cell_type": "markdown",
   "id": "7ae0ef81",
   "metadata": {},
   "source": [
    "# Column Description\n",
    "- `sop_inst_uid`: The SOP (Service Object Pair) instance UID from the DICOM file of the paired X-ray.\n",
    "- `path`: The file path of the DICOM X-ray file.\n",
    "- `clinic`: The clinic or medical facility where the DICOM is from.\n",
    "- `his_patient_id`: The patient ID associated with the DICOM.\n",
    "- `age`: The age of the patient when the X-ray was taken, calculated as the difference in years between the date of the X-ray and the patient's birthdate.\n",
    "- `gender`: The biological sex of the patient, either \"F\" for female or \"M\" for male.\n",
    "- `race`: The race or ethnicity of the patient, either \"Asian\" or \"White\".\n",
    "- `height`: The height of the patient in centimeters.\n",
    "- `weight`: The weight of the patient in kilograms.\n",
    "- `dxa_uid`: The DXA (Dual-energy X-ray absorptiometry) study UID, composed of the {clinic}_{his_patient_id}_{date_dxa}.\n",
    "- `dxa_measures`: The measurement results from the DXA, which could include LeftHip, RightHip, or LSPINE. Further details regarding these measurements can be found in the cell - `below.\n",
    "- `date_xray`: The date when the X-ray was taken.\n",
    "- `date_dxa`: The date when the DXA was taken.\n",
    "- `study_diff`: The number of days between the dates of the paired X-ray and DXA studies."
   ]
  },
  {
   "cell_type": "markdown",
   "id": "186fbb63",
   "metadata": {},
   "source": [
    "## Example for `dxa_measures`\n",
    "- A dictionary format (or JSON format) in string\n",
    "- first layer is the body part to be measured.\n",
    "- second layer is the detail position\n",
    "    - `RightHIP` or `LeftHIP` : contains `neck_bmd`, `gtr_bmd`, `shaft_bmd`, `ward_bmd`, and `all_bmd`.\n",
    "    - `LSPINE` : contains `L1`, `L2`, `L3`, and `L4`"
   ]
  },
  {
   "cell_type": "code",
   "execution_count": 4,
   "id": "b274f761",
   "metadata": {},
   "outputs": [
    {
     "data": {
      "text/plain": [
       "{'RightHIP': {'neck_bmd': 0.65071292210287,\n",
       "  'ward_bmd': 0.4880841750969,\n",
       "  'gtr_bmd': 0.53562286206283,\n",
       "  'shaft_bmd': 0.7690510971402998,\n",
       "  'all_bmd': 0.65940673087341},\n",
       " 'LeftHIP': {'neck_bmd': 0.67406870943629,\n",
       "  'ward_bmd': 0.56020339771895,\n",
       "  'gtr_bmd': 0.51825857378416,\n",
       "  'shaft_bmd': 0.77971307198891,\n",
       "  'all_bmd': 0.6619477504162},\n",
       " 'LSPINE': {'L1': 0.97561638685822,\n",
       "  'L2': 1.0208276536751,\n",
       "  'L3': 1.0957400092447,\n",
       "  'L4': 1.0291571755536}}"
      ]
     },
     "execution_count": 4,
     "metadata": {},
     "output_type": "execute_result"
    }
   ],
   "source": [
    "json.loads(df.iloc[0]['dxa_measures'])"
   ]
  },
  {
   "cell_type": "code",
   "execution_count": null,
   "id": "e249bf39",
   "metadata": {},
   "outputs": [],
   "source": []
  }
 ],
 "metadata": {
  "kernelspec": {
   "display_name": "Python 3 (ipykernel)",
   "language": "python",
   "name": "python3"
  },
  "language_info": {
   "codemirror_mode": {
    "name": "ipython",
    "version": 3
   },
   "file_extension": ".py",
   "mimetype": "text/x-python",
   "name": "python",
   "nbconvert_exporter": "python",
   "pygments_lexer": "ipython3",
   "version": "3.9.15"
  }
 },
 "nbformat": 4,
 "nbformat_minor": 5
}
